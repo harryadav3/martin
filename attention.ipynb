{
 "cells": [
  {
   "cell_type": "code",
   "execution_count": 1,
   "metadata": {},
   "outputs": [],
   "source": [
    "import torch\n",
    "inputs = torch.tensor(\n",
    "[[0.43, 0.15, 0.89],\n",
    " [0.55, 0.87, 0.66],\n",
    " [0.57, 0.85, 0.64],\n",
    " [0.22, 0.58, 0.33],\n",
    " [0.77, 0.25, 0.10],\n",
    " [0.05, 0.80, 0.55]]\n",
    ")"
   ]
  },
  {
   "cell_type": "code",
   "execution_count": 5,
   "metadata": {},
   "outputs": [
    {
     "name": "stdout",
     "output_type": "stream",
     "text": [
      "tensor([0.0000e+00, 0.0000e+00, 1.0500e-08, 2.7177e-06, 8.5758e-07, 8.3092e+20]) torch.Size([6, 3])\n",
      "tensor([0.4300, 0.1500, 0.8900]) tensor([0.5500, 0.8700, 0.6600])\n",
      "tensor([0.5500, 0.8700, 0.6600]) tensor([0.5500, 0.8700, 0.6600])\n",
      "tensor([0.5700, 0.8500, 0.6400]) tensor([0.5500, 0.8700, 0.6600])\n",
      "tensor([0.2200, 0.5800, 0.3300]) tensor([0.5500, 0.8700, 0.6600])\n",
      "tensor([0.7700, 0.2500, 0.1000]) tensor([0.5500, 0.8700, 0.6600])\n",
      "tensor([0.0500, 0.8000, 0.5500]) tensor([0.5500, 0.8700, 0.6600])\n",
      "tensor([0.9544, 1.4950, 1.4754, 0.8434, 0.7070, 1.0865])\n"
     ]
    }
   ],
   "source": [
    "query = inputs[1]\n",
    "\n",
    "attn_scores_2 = torch.empty(inputs.shape[0])\n",
    "print(attn_scores_2, inputs.shape)\n",
    "for i, x_i in enumerate(inputs):\n",
    "    print(x_i, query)\n",
    "    attn_scores_2[i] = torch.dot(x_i, query)\n",
    "\n",
    "print(attn_scores_2)"
   ]
  },
  {
   "cell_type": "code",
   "execution_count": 6,
   "metadata": {},
   "outputs": [
    {
     "name": "stdout",
     "output_type": "stream",
     "text": [
      "tensor(0.9544)\n",
      "tensor(0.9544)\n"
     ]
    }
   ],
   "source": [
    "res = 0\n",
    "for idx, element in enumerate(inputs[0]):\n",
    "    res += inputs[0][idx] * query[idx]\n",
    "\n",
    "print(res)\n",
    "print(torch.dot(inputs[0], query))"
   ]
  },
  {
   "cell_type": "code",
   "execution_count": null,
   "metadata": {},
   "outputs": [],
   "source": []
  }
 ],
 "metadata": {
  "language_info": {
   "name": "python"
  }
 },
 "nbformat": 4,
 "nbformat_minor": 2
}
